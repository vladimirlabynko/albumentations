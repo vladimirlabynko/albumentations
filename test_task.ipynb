{
 "cells": [
  {
   "cell_type": "code",
   "execution_count": 1,
   "metadata": {},
   "outputs": [],
   "source": [
    "import cv2 \n",
    "import os\n",
    "import matplotlib.image as mpimg\n",
    "import albumentations as A\n",
    "# imgaug uses matplotlib backend for displaying images\n",
    "%matplotlib inline\n",
    "\n",
    "import pandas as pd"
   ]
  },
  {
   "cell_type": "markdown",
   "metadata": {},
   "source": [
    "Функция для получения фреймов(картинок) из видео и функция для создания дополнительных папок"
   ]
  },
  {
   "cell_type": "code",
   "execution_count": 2,
   "metadata": {},
   "outputs": [],
   "source": [
    "def get_images(input_video):\n",
    "    cap = cv2.VideoCapture(input_video)\n",
    "    height = cap.get(cv2.CAP_PROP_FRAME_HEIGHT)\n",
    "    width = cap.get(cv2.CAP_PROP_FRAME_WIDTH)\n",
    "    success,image = cap.read()\n",
    "    count = 0\n",
    "    while success:\n",
    "        cv2.imwrite(\"images/%d.jpg\" % count, image)     # save frame as JPEG file      \n",
    "        success,image = cap.read()\n",
    "        count += 1\n",
    "    return height,width\n",
    "    \n",
    "def create_folder(name_path):\n",
    "    if not os.path.exists(name_path):\n",
    "        os.makedirs(name_path)"
   ]
  },
  {
   "cell_type": "markdown",
   "metadata": {},
   "source": [
    "Глобальные переменные "
   ]
  },
  {
   "cell_type": "code",
   "execution_count": 3,
   "metadata": {},
   "outputs": [],
   "source": [
    "input_video='test_video_2.mkv'\n",
    "default_images='images/'\n",
    "aug_images='aug/'\n",
    "resize_images='resize/'\n",
    "different_images='difference/'\n",
    "CSV='test_video_2.csv'\n",
    "BOX_COLOR = (255, 0, 0) # Red"
   ]
  },
  {
   "cell_type": "markdown",
   "metadata": {},
   "source": [
    "Создаём папки и получаем конфигурацию видео (высота и широта кадров)"
   ]
  },
  {
   "cell_type": "code",
   "execution_count": 4,
   "metadata": {},
   "outputs": [
    {
     "name": "stdout",
     "output_type": "stream",
     "text": [
      "1080 1920\n"
     ]
    }
   ],
   "source": [
    "create_folder(resize_images)\n",
    "create_folder(default_images)\n",
    "create_folder(aug_images)\n",
    "create_folder(different_images)\n",
    "\n",
    "height,width=get_images(input_video)\n",
    "print(int(height),int(width))"
   ]
  },
  {
   "cell_type": "markdown",
   "metadata": {},
   "source": [
    "Рассмотрим данные в csv файле"
   ]
  },
  {
   "cell_type": "code",
   "execution_count": 5,
   "metadata": {},
   "outputs": [
    {
     "name": "stdout",
     "output_type": "stream",
     "text": [
      "   frame        x0        y0        x1        y1\n",
      "0      0  0.261465  0.128091  0.552427  0.303706\n",
      "1      0  0.195457  0.252028  0.640548  0.700904\n",
      "2      0  0.621903  0.251293  0.797448  0.489561\n",
      "3      0  0.050217  0.258079  0.358569  0.479849\n",
      "4      0  0.871230  0.250931  0.933671  0.327532\n"
     ]
    }
   ],
   "source": [
    "df = pd.read_csv(CSV)\n",
    "print(df.head())"
   ]
  },
  {
   "cell_type": "markdown",
   "metadata": {},
   "source": [
    "Функция для трансформации датафрейма. Относительные точки переводим в реальные."
   ]
  },
  {
   "cell_type": "code",
   "execution_count": 6,
   "metadata": {},
   "outputs": [],
   "source": [
    "def transform_df(df):\n",
    "    df['frame'] = df['frame'] .apply(lambda x: str(x)+\".jpg\")\n",
    "    df['x0'] = df['x0'] .apply(lambda x: round(x*width))\n",
    "    df['x1'] = df['x1'] .apply(lambda x: round(x*width))\n",
    "    df['y0'] = df['y0'] .apply(lambda x: round(x*height))\n",
    "    df['y1'] = df['y1'] .apply(lambda x: round(x*height))\n",
    "    return df"
   ]
  },
  {
   "cell_type": "code",
   "execution_count": 7,
   "metadata": {},
   "outputs": [
    {
     "data": {
      "text/html": [
       "<div>\n",
       "<style scoped>\n",
       "    .dataframe tbody tr th:only-of-type {\n",
       "        vertical-align: middle;\n",
       "    }\n",
       "\n",
       "    .dataframe tbody tr th {\n",
       "        vertical-align: top;\n",
       "    }\n",
       "\n",
       "    .dataframe thead th {\n",
       "        text-align: right;\n",
       "    }\n",
       "</style>\n",
       "<table border=\"1\" class=\"dataframe\">\n",
       "  <thead>\n",
       "    <tr style=\"text-align: right;\">\n",
       "      <th></th>\n",
       "      <th>frame</th>\n",
       "      <th>x0</th>\n",
       "      <th>y0</th>\n",
       "      <th>x1</th>\n",
       "      <th>y1</th>\n",
       "    </tr>\n",
       "  </thead>\n",
       "  <tbody>\n",
       "    <tr>\n",
       "      <th>0</th>\n",
       "      <td>0.jpg</td>\n",
       "      <td>502</td>\n",
       "      <td>138</td>\n",
       "      <td>1061</td>\n",
       "      <td>328</td>\n",
       "    </tr>\n",
       "    <tr>\n",
       "      <th>1</th>\n",
       "      <td>0.jpg</td>\n",
       "      <td>375</td>\n",
       "      <td>272</td>\n",
       "      <td>1230</td>\n",
       "      <td>757</td>\n",
       "    </tr>\n",
       "    <tr>\n",
       "      <th>2</th>\n",
       "      <td>0.jpg</td>\n",
       "      <td>1194</td>\n",
       "      <td>271</td>\n",
       "      <td>1531</td>\n",
       "      <td>529</td>\n",
       "    </tr>\n",
       "    <tr>\n",
       "      <th>3</th>\n",
       "      <td>0.jpg</td>\n",
       "      <td>96</td>\n",
       "      <td>279</td>\n",
       "      <td>688</td>\n",
       "      <td>518</td>\n",
       "    </tr>\n",
       "    <tr>\n",
       "      <th>4</th>\n",
       "      <td>0.jpg</td>\n",
       "      <td>1673</td>\n",
       "      <td>271</td>\n",
       "      <td>1793</td>\n",
       "      <td>354</td>\n",
       "    </tr>\n",
       "  </tbody>\n",
       "</table>\n",
       "</div>"
      ],
      "text/plain": [
       "   frame    x0   y0    x1   y1\n",
       "0  0.jpg   502  138  1061  328\n",
       "1  0.jpg   375  272  1230  757\n",
       "2  0.jpg  1194  271  1531  529\n",
       "3  0.jpg    96  279   688  518\n",
       "4  0.jpg  1673  271  1793  354"
      ]
     },
     "execution_count": 7,
     "metadata": {},
     "output_type": "execute_result"
    }
   ],
   "source": [
    "detections=transform_df(df)\n",
    "detections.head()"
   ]
  },
  {
   "cell_type": "markdown",
   "metadata": {},
   "source": [
    "Функции для визуализации bounding boxes на изображении"
   ]
  },
  {
   "cell_type": "code",
   "execution_count": 8,
   "metadata": {},
   "outputs": [],
   "source": [
    "def visualize_bbox(img, bbox, color=BOX_COLOR, thickness=2):\n",
    "    \"\"\"Visualizes a single bounding box on the image\"\"\"\n",
    "    x_min, y_min, x_max, y_max = bbox\n",
    "    cv2.rectangle(img, (x_min, y_min), (x_max, y_max), color=color, thickness=thickness)\n",
    "    return img\n",
    "\n",
    "def visualize(image, bboxes):\n",
    "    img = image.copy()\n",
    "    for bbox in bboxes:\n",
    "        img = visualize_bbox(img, bbox)\n",
    "    return img"
   ]
  },
  {
   "cell_type": "markdown",
   "metadata": {},
   "source": [
    "Функция для преобразования изображения в изображения с bounding box и сохранением их в отдельной папке. Вторая функция для создания видео с bounding box"
   ]
  },
  {
   "cell_type": "code",
   "execution_count": 9,
   "metadata": {},
   "outputs": [],
   "source": [
    "def image_aug(df, images_path,output_path):\n",
    "    # create data frame which we're going to populate with augmented image info\n",
    "    grouped = df.groupby('frame')\n",
    "    \n",
    "    for filename in df['frame'].unique():\n",
    "    #   get separate data frame grouped by file name\n",
    "        group_df = grouped.get_group(filename)\n",
    "        group_df = group_df.reset_index()\n",
    "        group_df = group_df.drop(['index'], axis=1)   \n",
    "    #   read the image\n",
    "        image = mpimg.imread(images_path+filename)\n",
    "    #   get bounding boxes coordinates and write into array        \n",
    "        bb_array = group_df.drop(['frame'], axis=1).values\n",
    "    #   pass the array of bounding boxes coordinates to the imgaug library\n",
    "        img=visualize(image, bb_array)\n",
    "        mpimg.imsave(output_path+filename,img)\n",
    "\n",
    "def save_aug():\n",
    "    os.system(\"ffmpeg -r 10 -i aug/%d.jpg -vcodec mpeg4 -y output_aug.mp4\")"
   ]
  },
  {
   "cell_type": "markdown",
   "metadata": {},
   "source": [
    "Рисуем bounding box на всех изображениях и сохраненяем видео. Получем фйал - output_aug.mp4"
   ]
  },
  {
   "cell_type": "code",
   "execution_count": 10,
   "metadata": {},
   "outputs": [
    {
     "name": "stderr",
     "output_type": "stream",
     "text": [
      "ffmpeg version 5.1.2 Copyright (c) 2000-2022 the FFmpeg developers\n",
      "  built with Apple clang version 14.0.0 (clang-1400.0.29.102)\n",
      "  configuration: --prefix=/opt/homebrew/Cellar/ffmpeg/5.1.2 --enable-shared --enable-pthreads --enable-version3 --cc=clang --host-cflags= --host-ldflags= --enable-ffplay --enable-gnutls --enable-gpl --enable-libaom --enable-libbluray --enable-libdav1d --enable-libmp3lame --enable-libopus --enable-librav1e --enable-librist --enable-librubberband --enable-libsnappy --enable-libsrt --enable-libtesseract --enable-libtheora --enable-libvidstab --enable-libvmaf --enable-libvorbis --enable-libvpx --enable-libwebp --enable-libx264 --enable-libx265 --enable-libxml2 --enable-libxvid --enable-lzma --enable-libfontconfig --enable-libfreetype --enable-frei0r --enable-libass --enable-libopencore-amrnb --enable-libopencore-amrwb --enable-libopenjpeg --enable-libspeex --enable-libsoxr --enable-libzmq --enable-libzimg --disable-libjack --disable-indev=jack --enable-videotoolbox --enable-neon\n",
      "  libavutil      57. 28.100 / 57. 28.100\n",
      "  libavcodec     59. 37.100 / 59. 37.100\n",
      "  libavformat    59. 27.100 / 59. 27.100\n",
      "  libavdevice    59.  7.100 / 59.  7.100\n",
      "  libavfilter     8. 44.100 /  8. 44.100\n",
      "  libswscale      6.  7.100 /  6.  7.100\n",
      "  libswresample   4.  7.100 /  4.  7.100\n",
      "  libpostproc    56.  6.100 / 56.  6.100\n",
      "Input #0, image2, from 'aug/%d.jpg':\n",
      "  Duration: 00:00:04.68, start: 0.000000, bitrate: N/A\n",
      "  Stream #0:0: Video: mjpeg (Baseline), yuvj420p(pc, bt470bg/unknown/unknown), 1920x1080 [SAR 100:100 DAR 16:9], 25 fps, 25 tbr, 25 tbn\n",
      "Stream mapping:\n",
      "  Stream #0:0 -> #0:0 (mjpeg (native) -> mpeg4 (native))\n",
      "Press [q] to stop, [?] for help\n",
      "[swscaler @ 0x150620000] [swscaler @ 0x1402f8000] deprecated pixel format used, make sure you did set range correctly\n",
      "[swscaler @ 0x150620000] [swscaler @ 0x150630000] deprecated pixel format used, make sure you did set range correctly\n",
      "[swscaler @ 0x150620000] [swscaler @ 0x150050000] deprecated pixel format used, make sure you did set range correctly\n",
      "[swscaler @ 0x150620000] [swscaler @ 0x150060000] deprecated pixel format used, make sure you did set range correctly\n",
      "[swscaler @ 0x150620000] [swscaler @ 0x150070000] deprecated pixel format used, make sure you did set range correctly\n",
      "[swscaler @ 0x150620000] [swscaler @ 0x150080000] deprecated pixel format used, make sure you did set range correctly\n",
      "[swscaler @ 0x150620000] [swscaler @ 0x150640000] deprecated pixel format used, make sure you did set range correctly\n",
      "[swscaler @ 0x150620000] [swscaler @ 0x150650000] deprecated pixel format used, make sure you did set range correctly\n",
      "[swscaler @ 0x150620000] [swscaler @ 0x150660000] deprecated pixel format used, make sure you did set range correctly\n",
      "[swscaler @ 0x1402f8000] [swscaler @ 0x150620000] deprecated pixel format used, make sure you did set range correctly\n",
      "[swscaler @ 0x1402f8000] [swscaler @ 0x150050000] deprecated pixel format used, make sure you did set range correctly\n",
      "[swscaler @ 0x1402f8000] [swscaler @ 0x150060000] deprecated pixel format used, make sure you did set range correctly\n",
      "[swscaler @ 0x1402f8000] [swscaler @ 0x150070000] deprecated pixel format used, make sure you did set range correctly\n",
      "[swscaler @ 0x1402f8000] [swscaler @ 0x150080000] deprecated pixel format used, make sure you did set range correctly\n",
      "[swscaler @ 0x1402f8000] [swscaler @ 0x150630000] deprecated pixel format used, make sure you did set range correctly\n",
      "[swscaler @ 0x1402f8000] [swscaler @ 0x150640000] deprecated pixel format used, make sure you did set range correctly\n",
      "[swscaler @ 0x1402f8000] [swscaler @ 0x150650000] deprecated pixel format used, make sure you did set range correctly\n",
      "[swscaler @ 0x1402f8000] [swscaler @ 0x150660000] deprecated pixel format used, make sure you did set range correctly\n",
      "[swscaler @ 0x130008000] [swscaler @ 0x1402f8000] deprecated pixel format used, make sure you did set range correctly\n",
      "[swscaler @ 0x130008000] [swscaler @ 0x140308000] deprecated pixel format used, make sure you did set range correctly\n",
      "[swscaler @ 0x130008000] [swscaler @ 0x140318000] deprecated pixel format used, make sure you did set range correctly\n",
      "[swscaler @ 0x130008000] [swscaler @ 0x140328000] deprecated pixel format used, make sure you did set range correctly\n",
      "[swscaler @ 0x130008000] [swscaler @ 0x140338000] deprecated pixel format used, make sure you did set range correctly\n",
      "[swscaler @ 0x130008000] [swscaler @ 0x140348000] deprecated pixel format used, make sure you did set range correctly\n",
      "[swscaler @ 0x130008000] [swscaler @ 0x140358000] deprecated pixel format used, make sure you did set range correctly\n",
      "[swscaler @ 0x130008000] [swscaler @ 0x140368000] deprecated pixel format used, make sure you did set range correctly\n",
      "[swscaler @ 0x130008000] [swscaler @ 0x140378000] deprecated pixel format used, make sure you did set range correctly\n",
      "[swscaler @ 0x140378000] [swscaler @ 0x150660000] deprecated pixel format used, make sure you did set range correctly\n",
      "[swscaler @ 0x140378000] [swscaler @ 0x150670000] deprecated pixel format used, make sure you did set range correctly\n",
      "[swscaler @ 0x140378000] [swscaler @ 0x150620000] deprecated pixel format used, make sure you did set range correctly\n",
      "[swscaler @ 0x140378000] [swscaler @ 0x150630000] deprecated pixel format used, make sure you did set range correctly\n",
      "[swscaler @ 0x140378000] [swscaler @ 0x150640000] deprecated pixel format used, make sure you did set range correctly\n",
      "[swscaler @ 0x140378000] [swscaler @ 0x150650000] deprecated pixel format used, make sure you did set range correctly\n",
      "[swscaler @ 0x140378000] [swscaler @ 0x150050000] deprecated pixel format used, make sure you did set range correctly\n",
      "[swscaler @ 0x140378000] [swscaler @ 0x150060000] deprecated pixel format used, make sure you did set range correctly\n",
      "[swscaler @ 0x140378000] [swscaler @ 0x150070000] deprecated pixel format used, make sure you did set range correctly\n",
      "Output #0, mp4, to 'output_aug.mp4':\n",
      "  Metadata:\n",
      "    encoder         : Lavf59.27.100\n",
      "  Stream #0:0: Video: mpeg4 (mp4v / 0x7634706D), yuv420p(tv, bt470bg/unknown/unknown, progressive), 1920x1080 [SAR 1:1 DAR 16:9], q=2-31, 200 kb/s, 10 fps, 10240 tbn\n",
      "    Metadata:\n",
      "      encoder         : Lavc59.37.100 mpeg4\n",
      "    Side data:\n",
      "      cpb: bitrate max/min/avg: 0/0/200000 buffer size: 0 vbv_delay: N/A\n",
      "frame=  117 fps= 92 q=31.0 Lsize=    2780kB time=00:00:11.60 bitrate=1963.2kbits/s speed=9.15x    \n",
      "video:2778kB audio:0kB subtitle:0kB other streams:0kB global headers:0kB muxing overhead: 0.050366%\n"
     ]
    }
   ],
   "source": [
    "image_aug(detections,default_images,aug_images)\n",
    "save_aug()"
   ]
  },
  {
   "cell_type": "markdown",
   "metadata": {},
   "source": [
    "Функция для преобразования изображения с разрешением 416х416 и аннотацие данных, а так же сохранение видео с разрешением 416х416 название - output_aug_resized.mp4"
   ]
  },
  {
   "cell_type": "code",
   "execution_count": 11,
   "metadata": {},
   "outputs": [],
   "source": [
    "height, width = 416, 416\n",
    "\n",
    "def image_aug_resize(df, images_path,output_path):\n",
    "    # create data frame which we're going to populate with augmented image info\n",
    "    grouped = df.groupby('frame')\n",
    "    transform = A.augmentations.crops.transforms.CenterCrop(height, width, p=1.0)\n",
    "    for filename in df['frame'].unique():\n",
    "    #   get separate data frame grouped by file name\n",
    "        group_df = grouped.get_group(filename)\n",
    "        group_df = group_df.reset_index()\n",
    "        group_df = group_df.drop(['index'], axis=1)   \n",
    "    #   read the image\n",
    "        image = mpimg.imread(images_path+filename)\n",
    "    #   get bounding boxes coordinates and write into array        \n",
    "        bb_array = group_df.drop(['frame'], axis=1).values\n",
    "    #   pass the array of bounding boxes coordinates to the imgaug library\n",
    "        img=transform(image=visualize(image, bb_array))['image']\n",
    "        mpimg.imsave(output_path+filename,img)\n",
    "\n",
    "def save_resized():\n",
    "    os.system(\"ffmpeg -r 10 -i resize/%d.jpg -vcodec mpeg4 -y output_aug_resized.mp4\")"
   ]
  },
  {
   "cell_type": "code",
   "execution_count": 12,
   "metadata": {},
   "outputs": [
    {
     "name": "stderr",
     "output_type": "stream",
     "text": [
      "ffmpeg version 5.1.2 Copyright (c) 2000-2022 the FFmpeg developers\n",
      "  built with Apple clang version 14.0.0 (clang-1400.0.29.102)\n",
      "  configuration: --prefix=/opt/homebrew/Cellar/ffmpeg/5.1.2 --enable-shared --enable-pthreads --enable-version3 --cc=clang --host-cflags= --host-ldflags= --enable-ffplay --enable-gnutls --enable-gpl --enable-libaom --enable-libbluray --enable-libdav1d --enable-libmp3lame --enable-libopus --enable-librav1e --enable-librist --enable-librubberband --enable-libsnappy --enable-libsrt --enable-libtesseract --enable-libtheora --enable-libvidstab --enable-libvmaf --enable-libvorbis --enable-libvpx --enable-libwebp --enable-libx264 --enable-libx265 --enable-libxml2 --enable-libxvid --enable-lzma --enable-libfontconfig --enable-libfreetype --enable-frei0r --enable-libass --enable-libopencore-amrnb --enable-libopencore-amrwb --enable-libopenjpeg --enable-libspeex --enable-libsoxr --enable-libzmq --enable-libzimg --disable-libjack --disable-indev=jack --enable-videotoolbox --enable-neon\n",
      "  libavutil      57. 28.100 / 57. 28.100\n",
      "  libavcodec     59. 37.100 / 59. 37.100\n",
      "  libavformat    59. 27.100 / 59. 27.100\n",
      "  libavdevice    59.  7.100 / 59.  7.100\n",
      "  libavfilter     8. 44.100 /  8. 44.100\n",
      "  libswscale      6.  7.100 /  6.  7.100\n",
      "  libswresample   4.  7.100 /  4.  7.100\n",
      "  libpostproc    56.  6.100 / 56.  6.100\n",
      "Input #0, image2, from 'resize/%d.jpg':\n",
      "  Duration: 00:00:04.68, start: 0.000000, bitrate: N/A\n",
      "  Stream #0:0: Video: mjpeg (Baseline), yuvj420p(pc, bt470bg/unknown/unknown), 416x416 [SAR 100:100 DAR 1:1], 25 fps, 25 tbr, 25 tbn\n",
      "Stream mapping:\n",
      "  Stream #0:0 -> #0:0 (mjpeg (native) -> mpeg4 (native))\n",
      "Press [q] to stop, [?] for help\n",
      "[swscaler @ 0x138098000] [swscaler @ 0x1380a8000] deprecated pixel format used, make sure you did set range correctly\n",
      "[swscaler @ 0x138098000] [swscaler @ 0x1380b8000] deprecated pixel format used, make sure you did set range correctly\n",
      "[swscaler @ 0x138098000] [swscaler @ 0x1380c8000] deprecated pixel format used, make sure you did set range correctly\n",
      "[swscaler @ 0x138098000] [swscaler @ 0x1380d8000] deprecated pixel format used, make sure you did set range correctly\n",
      "[swscaler @ 0x138098000] [swscaler @ 0x1380e8000] deprecated pixel format used, make sure you did set range correctly\n",
      "[swscaler @ 0x138098000] [swscaler @ 0x1380f8000] deprecated pixel format used, make sure you did set range correctly\n",
      "[swscaler @ 0x138098000] [swscaler @ 0x138108000] deprecated pixel format used, make sure you did set range correctly\n",
      "[swscaler @ 0x138098000] [swscaler @ 0x138118000] deprecated pixel format used, make sure you did set range correctly\n",
      "[swscaler @ 0x138098000] [swscaler @ 0x138128000] deprecated pixel format used, make sure you did set range correctly\n",
      "[swscaler @ 0x128008000] [swscaler @ 0x138098000] deprecated pixel format used, make sure you did set range correctly\n",
      "[swscaler @ 0x128008000] [swscaler @ 0x1380a8000] deprecated pixel format used, make sure you did set range correctly\n",
      "[swscaler @ 0x128008000] [swscaler @ 0x1380b8000] deprecated pixel format used, make sure you did set range correctly\n",
      "[swscaler @ 0x128008000] [swscaler @ 0x1380c8000] deprecated pixel format used, make sure you did set range correctly\n",
      "[swscaler @ 0x128008000] [swscaler @ 0x1380d8000] deprecated pixel format used, make sure you did set range correctly\n",
      "[swscaler @ 0x128008000] [swscaler @ 0x1380e8000] deprecated pixel format used, make sure you did set range correctly\n",
      "[swscaler @ 0x128008000] [swscaler @ 0x1380f8000] deprecated pixel format used, make sure you did set range correctly\n",
      "[swscaler @ 0x128008000] [swscaler @ 0x138108000] deprecated pixel format used, make sure you did set range correctly\n",
      "[swscaler @ 0x128008000] [swscaler @ 0x138118000] deprecated pixel format used, make sure you did set range correctly\n",
      "[swscaler @ 0x118008000] [swscaler @ 0x140008000] deprecated pixel format used, make sure you did set range correctly\n",
      "[swscaler @ 0x118008000] [swscaler @ 0x140018000] deprecated pixel format used, make sure you did set range correctly\n",
      "[swscaler @ 0x118008000] [swscaler @ 0x140028000] deprecated pixel format used, make sure you did set range correctly\n",
      "[swscaler @ 0x118008000] [swscaler @ 0x140038000] deprecated pixel format used, make sure you did set range correctly\n",
      "[swscaler @ 0x118008000] [swscaler @ 0x140048000] deprecated pixel format used, make sure you did set range correctly\n",
      "[swscaler @ 0x118008000] [swscaler @ 0x140058000] deprecated pixel format used, make sure you did set range correctly\n",
      "[swscaler @ 0x118008000] [swscaler @ 0x140068000] deprecated pixel format used, make sure you did set range correctly\n",
      "[swscaler @ 0x118008000] [swscaler @ 0x140078000] deprecated pixel format used, make sure you did set range correctly\n",
      "[swscaler @ 0x118008000] [swscaler @ 0x140088000] deprecated pixel format used, make sure you did set range correctly\n",
      "[swscaler @ 0x118008000] [swscaler @ 0x118018000] deprecated pixel format used, make sure you did set range correctly\n",
      "[swscaler @ 0x118008000] [swscaler @ 0x118028000] deprecated pixel format used, make sure you did set range correctly\n",
      "[swscaler @ 0x118008000] [swscaler @ 0x118038000] deprecated pixel format used, make sure you did set range correctly\n",
      "[swscaler @ 0x118008000] [swscaler @ 0x118048000] deprecated pixel format used, make sure you did set range correctly\n",
      "[swscaler @ 0x118008000] [swscaler @ 0x118058000] deprecated pixel format used, make sure you did set range correctly\n",
      "[swscaler @ 0x118008000] [swscaler @ 0x118068000] deprecated pixel format used, make sure you did set range correctly\n",
      "[swscaler @ 0x118008000] [swscaler @ 0x118078000] deprecated pixel format used, make sure you did set range correctly\n",
      "[swscaler @ 0x118008000] [swscaler @ 0x118088000] deprecated pixel format used, make sure you did set range correctly\n",
      "[swscaler @ 0x118008000] [swscaler @ 0x118098000] deprecated pixel format used, make sure you did set range correctly\n",
      "Output #0, mp4, to 'output_aug_resized.mp4':\n",
      "  Metadata:\n",
      "    encoder         : Lavf59.27.100\n",
      "  Stream #0:0: Video: mpeg4 (mp4v / 0x7634706D), yuv420p(tv, bt470bg/unknown/unknown, progressive), 416x416 [SAR 1:1 DAR 1:1], q=2-31, 200 kb/s, 10 fps, 10240 tbn\n",
      "    Metadata:\n",
      "      encoder         : Lavc59.37.100 mpeg4\n",
      "    Side data:\n",
      "      cpb: bitrate max/min/avg: 0/0/200000 buffer size: 0 vbv_delay: N/A\n",
      "frame=  117 fps=0.0 q=10.5 Lsize=     363kB time=00:00:11.60 bitrate= 256.3kbits/s speed=92.5x    \n",
      "video:362kB audio:0kB subtitle:0kB other streams:0kB global headers:0kB muxing overhead: 0.378354%\n"
     ]
    }
   ],
   "source": [
    "image_aug_resize(detections,default_images,resize_images)\n",
    "save_resized()"
   ]
  },
  {
   "cell_type": "markdown",
   "metadata": {},
   "source": [
    "Функция для взятия отличающиеся изображений(беру кадр каждые 2 секунды)"
   ]
  },
  {
   "cell_type": "code",
   "execution_count": 13,
   "metadata": {},
   "outputs": [],
   "source": [
    "def get_nth_frame(videoFile,path):\n",
    "    cap = cv2.VideoCapture(videoFile)\n",
    "    success, image = cap.read()\n",
    "    seconds = 2\n",
    "    fps = cap.get(cv2.CAP_PROP_FPS) \n",
    "    multiplier = fps * seconds\n",
    "\n",
    "    while success:\n",
    "        frameId = int(round(cap.get(1))) \n",
    "        success, image = cap.read()\n",
    "        if success:\n",
    "            if frameId % multiplier == 0:\n",
    "                cv2.imwrite(path+\"/frame%d.jpg\" % frameId, image)\n",
    "    cap.release()\n",
    "    cv2.destroyAllWindows()\n",
    "    print(\"Complete\")"
   ]
  },
  {
   "cell_type": "markdown",
   "metadata": {},
   "source": [
    "Сохраняем отличающиеся изображения"
   ]
  },
  {
   "cell_type": "code",
   "execution_count": 14,
   "metadata": {},
   "outputs": [
    {
     "name": "stdout",
     "output_type": "stream",
     "text": [
      "Complete\n"
     ]
    }
   ],
   "source": [
    "video='output_aug_resized.mp4'\n",
    "get_nth_frame(video,different_images)"
   ]
  },
  {
   "cell_type": "code",
   "execution_count": 15,
   "metadata": {},
   "outputs": [],
   "source": [
    "import shutil\n",
    "def remove_path(file_path):\n",
    "    if os.path.exists(file_path):\n",
    "        shutil.rmtree(file_path)\n",
    "        print(\"folder deleted\")\n",
    "    else:\n",
    "        print(\"The system cannot find the file specified\")\n",
    "\n",
    "def remove_video(video):\n",
    "    os.remove(video)\n",
    "    print(\"video deleted\")\n",
    "\n",
    "    "
   ]
  },
  {
   "cell_type": "code",
   "execution_count": 16,
   "metadata": {},
   "outputs": [],
   "source": [
    "aug_video=\"output_aug.mp4\"\n",
    "res_video=\"output_aug_resized.mp4\""
   ]
  },
  {
   "cell_type": "markdown",
   "metadata": {},
   "source": [
    "Если необходимо, то удаляем ранее созданные файлы и папки"
   ]
  },
  {
   "cell_type": "code",
   "execution_count": 17,
   "metadata": {},
   "outputs": [
    {
     "name": "stdout",
     "output_type": "stream",
     "text": [
      "folder deleted\n",
      "folder deleted\n",
      "folder deleted\n"
     ]
    }
   ],
   "source": [
    "remove_path(default_images)\n",
    "remove_path(aug_images)\n",
    "remove_path(resize_images)"
   ]
  },
  {
   "cell_type": "code",
   "execution_count": 18,
   "metadata": {},
   "outputs": [
    {
     "name": "stdout",
     "output_type": "stream",
     "text": [
      "video deleted\n",
      "video deleted\n"
     ]
    }
   ],
   "source": [
    "remove_video(aug_video)\n",
    "remove_video(res_video)"
   ]
  },
  {
   "cell_type": "code",
   "execution_count": 19,
   "metadata": {},
   "outputs": [
    {
     "name": "stdout",
     "output_type": "stream",
     "text": [
      "folder deleted\n"
     ]
    }
   ],
   "source": [
    "remove_path(different_images)"
   ]
  }
 ],
 "metadata": {
  "kernelspec": {
   "display_name": "Python 3",
   "language": "python",
   "name": "python3"
  },
  "language_info": {
   "codemirror_mode": {
    "name": "ipython",
    "version": 3
   },
   "file_extension": ".py",
   "mimetype": "text/x-python",
   "name": "python",
   "nbconvert_exporter": "python",
   "pygments_lexer": "ipython3",
   "version": "3.10.4"
  }
 },
 "nbformat": 4,
 "nbformat_minor": 4
}
